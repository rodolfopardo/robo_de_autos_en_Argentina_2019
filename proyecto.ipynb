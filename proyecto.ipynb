{
 "cells": [
  {
   "cell_type": "code",
   "execution_count": 65,
   "metadata": {},
   "outputs": [],
   "source": [
    "#Importando librerias \n",
    "\n",
    "import pandas as pd\n",
    "import numpy as np\n",
    "import matplotlib.pyplot as plt\n",
    "import seaborn as sns\n",
    "import os\n",
    "import glob\n",
    "from datetime import datetime\n",
    "\n",
    "\n",
    "#Tuneando la imagen de los resultados\n",
    "\n",
    "sns.set(rc={'figure.figsize':(11.7,8.27)})\n"
   ]
  },
  {
   "cell_type": "code",
   "execution_count": 3,
   "metadata": {},
   "outputs": [],
   "source": [
    "#Se navega hasta el documento\n",
    "\n",
    "os.chdir('/Users/rodolfopardo/robo/')"
   ]
  },
  {
   "cell_type": "code",
   "execution_count": 18,
   "metadata": {},
   "outputs": [],
   "source": [
    "#Se realiza la busqueda de archivos csv en carpeta\n",
    "\n",
    "extension = 'csv'\n",
    "all_filenames = [i for i in glob.glob('*.{}'.format(extension))]"
   ]
  },
  {
   "cell_type": "code",
   "execution_count": 19,
   "metadata": {},
   "outputs": [
    {
     "data": {
      "text/plain": [
       "['dnrpa-robos-recuperos-autos-201909.csv',\n",
       " 'dnrpa-robos-recuperos-autos-201908.csv',\n",
       " 'dnrpa-robos-recuperos-autos-201911.csv',\n",
       " 'dnrpa-robos-recuperos-autos-201905.csv',\n",
       " 'dnrpa-robos-recuperos-autos-201904.csv',\n",
       " 'dnrpa-robos-recuperos-autos-201910.csv',\n",
       " 'dnrpa-robos-recuperos-autos-201906.csv',\n",
       " 'dnrpa-robos-recuperos-autos-201912.csv',\n",
       " 'dnrpa-robos-recuperos-autos-201907.csv',\n",
       " 'dnrpa-robos-recuperos-autos-201903.csv',\n",
       " 'dnrpa-robos-recuperos-autos-201902.csv',\n",
       " 'dnrpa-robos-recuperos-autos-201901.csv']"
      ]
     },
     "execution_count": 19,
     "metadata": {},
     "output_type": "execute_result"
    }
   ],
   "source": [
    "#Todos los archivos csv a analizar para la exploración de los datos \n",
    "\n",
    "all_filenames"
   ]
  },
  {
   "cell_type": "code",
   "execution_count": 20,
   "metadata": {},
   "outputs": [
    {
     "name": "stderr",
     "output_type": "stream",
     "text": [
      "/Users/rodolfopardo/anaconda3/lib/python3.7/site-packages/ipykernel_launcher.py:2: FutureWarning: Sorting because non-concatenation axis is not aligned. A future version\n",
      "of pandas will change to not sort by default.\n",
      "\n",
      "To accept the future behavior, pass 'sort=False'.\n",
      "\n",
      "To retain the current behavior and silence the warning, pass 'sort=True'.\n",
      "\n",
      "  \n"
     ]
    }
   ],
   "source": [
    "#Se combinan todos en una lista \n",
    "combined_csv = pd.concat([pd.read_csv(f) for f in all_filenames ])\n",
    "#Se exporta todo a csv\n",
    "combined_csv.to_csv( \"combined_csv.csv\", index=False)\n",
    "\n",
    "#Los warnings mostrados es por el orden que registra pandas en los archivos que esta juntando"
   ]
  },
  {
   "cell_type": "code",
   "execution_count": 4,
   "metadata": {},
   "outputs": [
    {
     "name": "stderr",
     "output_type": "stream",
     "text": [
      "/Users/rodolfopardo/anaconda3/lib/python3.7/site-packages/IPython/core/interactiveshell.py:3058: DtypeWarning: Columns (21) have mixed types. Specify dtype option on import or set low_memory=False.\n",
      "  interactivity=interactivity, compiler=compiler, result=result)\n"
     ]
    }
   ],
   "source": [
    "#Se procede a leer el archivo \n",
    "\n",
    "data = pd.read_csv('combined_csv.csv')"
   ]
  },
  {
   "cell_type": "markdown",
   "metadata": {},
   "source": [
    "#### Data exploration"
   ]
  },
  {
   "cell_type": "code",
   "execution_count": 5,
   "metadata": {},
   "outputs": [
    {
     "name": "stdout",
     "output_type": "stream",
     "text": [
      "Tenemos una base de datos con 36833 registros de robos de automóviles registrados en Argentina\n"
     ]
    }
   ],
   "source": [
    "print('Tenemos una base de datos con {} registros de robos de automóviles registrados en Argentina'.format(data.shape[0]))"
   ]
  },
  {
   "cell_type": "code",
   "execution_count": 6,
   "metadata": {},
   "outputs": [
    {
     "name": "stdout",
     "output_type": "stream",
     "text": [
      "Tenemos una base de datos con 27 variables a analizar\n"
     ]
    }
   ],
   "source": [
    "print('Tenemos una base de datos con {} variables a analizar'.format(data.shape[1]))"
   ]
  },
  {
   "cell_type": "code",
   "execution_count": 7,
   "metadata": {},
   "outputs": [
    {
     "data": {
      "text/plain": [
       "Index(['automotor_anio_modelo', 'automotor_marca_codigo',\n",
       "       'automotor_marca_descripcion', 'automotor_modelo_codigo',\n",
       "       'automotor_modelo_descripcion', 'automotor_origen',\n",
       "       'automotor_tipo_codigo', 'automotor_tipo_descripcion',\n",
       "       'automotor_uso_codigo', 'automotor_uso_descripcion',\n",
       "       'fecha_inscripcion_inicial', 'registro_seccional_codigo',\n",
       "       'registro_seccional_descripcion', 'registro_seccional_provincia',\n",
       "       'titular_anio_nacimiento', 'titular_domicilio_localidad',\n",
       "       'titular_domicilio_provincia', 'titular_domicilio_provincia_id',\n",
       "       'titular_domicilio_provincia_indec_id', 'titular_genero',\n",
       "       'titular_pais_nacimiento', 'titular_pais_nacimiento_id',\n",
       "       'titular_pais_nacimiento_indec_id', 'titular_porcentaje_titularidad',\n",
       "       'titular_tipo_persona', 'tramite_fecha', 'tramite_tipo'],\n",
       "      dtype='object')"
      ]
     },
     "execution_count": 7,
     "metadata": {},
     "output_type": "execute_result"
    }
   ],
   "source": [
    "#Las 27 variables a analizar por cada dato\n",
    "\n",
    "data.columns"
   ]
  },
  {
   "cell_type": "code",
   "execution_count": 10,
   "metadata": {},
   "outputs": [
    {
     "data": {
      "text/plain": [
       "automotor_anio_modelo                     160\n",
       "automotor_marca_codigo                    778\n",
       "automotor_marca_descripcion                 0\n",
       "automotor_modelo_codigo                   860\n",
       "automotor_modelo_descripcion                0\n",
       "automotor_origen                            0\n",
       "automotor_tipo_codigo                    1576\n",
       "automotor_tipo_descripcion                  0\n",
       "automotor_uso_codigo                        1\n",
       "automotor_uso_descripcion                   1\n",
       "fecha_inscripcion_inicial                   1\n",
       "registro_seccional_codigo                   0\n",
       "registro_seccional_descripcion              0\n",
       "registro_seccional_provincia                0\n",
       "titular_anio_nacimiento                    11\n",
       "titular_domicilio_localidad                52\n",
       "titular_domicilio_provincia                 0\n",
       "titular_domicilio_provincia_id           9220\n",
       "titular_domicilio_provincia_indec_id    27613\n",
       "titular_genero                              0\n",
       "titular_pais_nacimiento                     0\n",
       "titular_pais_nacimiento_id              11268\n",
       "titular_pais_nacimiento_indec_id        28271\n",
       "titular_porcentaje_titularidad              0\n",
       "titular_tipo_persona                        0\n",
       "tramite_fecha                               0\n",
       "tramite_tipo                                0\n",
       "dtype: int64"
      ]
     },
     "execution_count": 10,
     "metadata": {},
     "output_type": "execute_result"
    }
   ],
   "source": [
    "#Valores nulos \n",
    "\n",
    "data.isnull().sum()"
   ]
  },
  {
   "cell_type": "markdown",
   "metadata": {},
   "source": [
    "Podemos observar que columnas relacionadas al ID del INDEC tienen gran cantidad de valores perdidos, hablamos de casi el 85% de los datos nulos, por lo que <font color=red>se eliminan</font> porque no aportan datos diferenciales a la muestra. \n",
    "También, las columnas marca_codigo y modelo_codigo son reemplazadas por las descripciones correspondientes de marca y modelo en columnas separadas por lo cual se decide <font color=red>eliminar</font> de la muestra a estas dos columnas. "
   ]
  },
  {
   "cell_type": "markdown",
   "metadata": {},
   "source": [
    "#### Se eliminan columnas con más del 85% de datos perdidos"
   ]
  },
  {
   "cell_type": "code",
   "execution_count": 16,
   "metadata": {},
   "outputs": [],
   "source": [
    "#Eliminando columnas \n",
    "\n",
    "data.drop(columns = ['titular_domicilio_provincia_indec_id', 'titular_pais_nacimiento_indec_id'],\n",
    "         inplace = True)"
   ]
  },
  {
   "cell_type": "code",
   "execution_count": 28,
   "metadata": {},
   "outputs": [],
   "source": [
    "#Se eliminan columnas con poco dato de interes \n",
    "\n",
    "data.drop(columns = ['automotor_marca_codigo', 'automotor_modelo_codigo'], inplace = True)"
   ]
  },
  {
   "cell_type": "code",
   "execution_count": 29,
   "metadata": {},
   "outputs": [],
   "source": [
    "data.drop(columns = ['automotor_tipo_codigo'], inplace = True)"
   ]
  },
  {
   "cell_type": "markdown",
   "metadata": {},
   "source": [
    "#### Completando las demas columnas con valores \"sin registro\" para que no sean considerados nulos en la muestra"
   ]
  },
  {
   "cell_type": "code",
   "execution_count": 36,
   "metadata": {},
   "outputs": [
    {
     "data": {
      "text/plain": [
       "0        2001-07-30\n",
       "1        2000-01-07\n",
       "2        1991-05-31\n",
       "3        1996-12-18\n",
       "4        2002-04-22\n",
       "            ...    \n",
       "36828    2011-05-26\n",
       "36829    2011-02-28\n",
       "36830    2010-08-31\n",
       "36831    2015-06-19\n",
       "36832    2002-04-12\n",
       "Name: fecha_inscripcion_inicial, Length: 36833, dtype: object"
      ]
     },
     "execution_count": 36,
     "metadata": {},
     "output_type": "execute_result"
    }
   ],
   "source": [
    "#Completamos  \n",
    "\n",
    "def relleno_nan(x):\n",
    "    data[x].fillna('sin registro', inplace = True)\n",
    "    return data[x]\n",
    "\n",
    "def relleno_nan_num(x):\n",
    "    data[x].fillna(0, inplace = True)\n",
    "    return data[x]\n",
    "\n",
    "relleno_nan('titular_pais_nacimiento_id')\n",
    "relleno_nan_num('titular_domicilio_provincia_id')\n",
    "relleno_nan('titular_domicilio_localidad')\n",
    "relleno_nan_num('titular_anio_nacimiento')\n",
    "relleno_nan_num('automotor_anio_modelo')\n",
    "relleno_nan('automotor_uso_descripcion')\n",
    "relleno_nan_num('fecha_inscripcion_inicial')"
   ]
  },
  {
   "cell_type": "markdown",
   "metadata": {},
   "source": [
    "#### Chequeando la existencia de valores nulos en la muestra\n"
   ]
  },
  {
   "cell_type": "code",
   "execution_count": 37,
   "metadata": {},
   "outputs": [
    {
     "data": {
      "text/plain": [
       "automotor_anio_modelo             0\n",
       "automotor_marca_descripcion       0\n",
       "automotor_modelo_descripcion      0\n",
       "automotor_origen                  0\n",
       "automotor_tipo_descripcion        0\n",
       "automotor_uso_codigo              0\n",
       "automotor_uso_descripcion         0\n",
       "fecha_inscripcion_inicial         0\n",
       "registro_seccional_codigo         0\n",
       "registro_seccional_descripcion    0\n",
       "registro_seccional_provincia      0\n",
       "titular_anio_nacimiento           0\n",
       "titular_domicilio_localidad       0\n",
       "titular_domicilio_provincia       0\n",
       "titular_domicilio_provincia_id    0\n",
       "titular_genero                    0\n",
       "titular_pais_nacimiento           0\n",
       "titular_pais_nacimiento_id        0\n",
       "titular_porcentaje_titularidad    0\n",
       "titular_tipo_persona              0\n",
       "tramite_fecha                     0\n",
       "tramite_tipo                      0\n",
       "dtype: int64"
      ]
     },
     "execution_count": 37,
     "metadata": {},
     "output_type": "execute_result"
    }
   ],
   "source": [
    "data.isnull().sum()"
   ]
  },
  {
   "cell_type": "markdown",
   "metadata": {},
   "source": [
    "<font color= green> Tenemos una base limpia, sin valores nulos y lista para trabajar"
   ]
  },
  {
   "cell_type": "markdown",
   "metadata": {},
   "source": [
    "#### Tipos de datos de cada columna de nuestro dataset"
   ]
  },
  {
   "cell_type": "code",
   "execution_count": 39,
   "metadata": {},
   "outputs": [
    {
     "data": {
      "text/plain": [
       "automotor_anio_modelo             float64\n",
       "automotor_marca_descripcion        object\n",
       "automotor_modelo_descripcion       object\n",
       "automotor_origen                   object\n",
       "automotor_tipo_descripcion         object\n",
       "automotor_uso_codigo              float64\n",
       "automotor_uso_descripcion          object\n",
       "fecha_inscripcion_inicial          object\n",
       "registro_seccional_codigo           int64\n",
       "registro_seccional_descripcion     object\n",
       "registro_seccional_provincia       object\n",
       "titular_anio_nacimiento           float64\n",
       "titular_domicilio_localidad        object\n",
       "titular_domicilio_provincia        object\n",
       "titular_domicilio_provincia_id     object\n",
       "titular_genero                     object\n",
       "titular_pais_nacimiento            object\n",
       "titular_pais_nacimiento_id         object\n",
       "titular_porcentaje_titularidad      int64\n",
       "titular_tipo_persona               object\n",
       "tramite_fecha                      object\n",
       "tramite_tipo                       object\n",
       "dtype: object"
      ]
     },
     "execution_count": 39,
     "metadata": {},
     "output_type": "execute_result"
    }
   ],
   "source": [
    "data.dtypes"
   ]
  },
  {
   "cell_type": "code",
   "execution_count": 42,
   "metadata": {},
   "outputs": [
    {
     "data": {
      "text/plain": [
       "0    2001-07-30\n",
       "1    2000-01-07\n",
       "2    1991-05-31\n",
       "3    1996-12-18\n",
       "4    2002-04-22\n",
       "Name: fecha_inscripcion_inicial, dtype: object"
      ]
     },
     "execution_count": 42,
     "metadata": {},
     "output_type": "execute_result"
    }
   ],
   "source": [
    "data.fecha_inscripcion_inicial.head()"
   ]
  },
  {
   "cell_type": "markdown",
   "metadata": {},
   "source": [
    "Se observa que la columna fecha es una variable de tipo object cuando debería ser de tipo date para realizar cualquier tipo de estudio de time series.<br> <font color=green>Se procede a cambiar </font> el tipo:"
   ]
  },
  {
   "cell_type": "code",
   "execution_count": 53,
   "metadata": {},
   "outputs": [],
   "source": [
    "data['tramite_fecha'] = pd.to_datetime(data['tramite_fecha'])"
   ]
  },
  {
   "cell_type": "markdown",
   "metadata": {},
   "source": [
    "##### Chequeamos que efectivamente se cambie el tipo de variable por datetime"
   ]
  },
  {
   "cell_type": "code",
   "execution_count": 54,
   "metadata": {},
   "outputs": [
    {
     "data": {
      "text/plain": [
       "automotor_anio_modelo                    float64\n",
       "automotor_marca_descripcion               object\n",
       "automotor_modelo_descripcion              object\n",
       "automotor_origen                          object\n",
       "automotor_tipo_descripcion                object\n",
       "automotor_uso_codigo                     float64\n",
       "automotor_uso_descripcion                 object\n",
       "fecha_inscripcion_inicial         datetime64[ns]\n",
       "registro_seccional_codigo                  int64\n",
       "registro_seccional_descripcion            object\n",
       "registro_seccional_provincia              object\n",
       "titular_anio_nacimiento                  float64\n",
       "titular_domicilio_localidad               object\n",
       "titular_domicilio_provincia               object\n",
       "titular_domicilio_provincia_id            object\n",
       "titular_genero                            object\n",
       "titular_pais_nacimiento                   object\n",
       "titular_pais_nacimiento_id                object\n",
       "titular_porcentaje_titularidad             int64\n",
       "titular_tipo_persona                      object\n",
       "tramite_fecha                     datetime64[ns]\n",
       "tramite_tipo                              object\n",
       "dtype: object"
      ]
     },
     "execution_count": 54,
     "metadata": {},
     "output_type": "execute_result"
    }
   ],
   "source": [
    "data.dtypes"
   ]
  },
  {
   "cell_type": "markdown",
   "metadata": {},
   "source": [
    "### Data Exploration"
   ]
  },
  {
   "cell_type": "code",
   "execution_count": 55,
   "metadata": {},
   "outputs": [
    {
     "data": {
      "text/html": [
       "<div>\n",
       "<style scoped>\n",
       "    .dataframe tbody tr th:only-of-type {\n",
       "        vertical-align: middle;\n",
       "    }\n",
       "\n",
       "    .dataframe tbody tr th {\n",
       "        vertical-align: top;\n",
       "    }\n",
       "\n",
       "    .dataframe thead th {\n",
       "        text-align: right;\n",
       "    }\n",
       "</style>\n",
       "<table border=\"1\" class=\"dataframe\">\n",
       "  <thead>\n",
       "    <tr style=\"text-align: right;\">\n",
       "      <th></th>\n",
       "      <th>automotor_anio_modelo</th>\n",
       "      <th>automotor_marca_descripcion</th>\n",
       "      <th>automotor_modelo_descripcion</th>\n",
       "      <th>automotor_origen</th>\n",
       "      <th>automotor_tipo_descripcion</th>\n",
       "      <th>automotor_uso_codigo</th>\n",
       "      <th>automotor_uso_descripcion</th>\n",
       "      <th>fecha_inscripcion_inicial</th>\n",
       "      <th>registro_seccional_codigo</th>\n",
       "      <th>registro_seccional_descripcion</th>\n",
       "      <th>...</th>\n",
       "      <th>titular_domicilio_localidad</th>\n",
       "      <th>titular_domicilio_provincia</th>\n",
       "      <th>titular_domicilio_provincia_id</th>\n",
       "      <th>titular_genero</th>\n",
       "      <th>titular_pais_nacimiento</th>\n",
       "      <th>titular_pais_nacimiento_id</th>\n",
       "      <th>titular_porcentaje_titularidad</th>\n",
       "      <th>titular_tipo_persona</th>\n",
       "      <th>tramite_fecha</th>\n",
       "      <th>tramite_tipo</th>\n",
       "    </tr>\n",
       "  </thead>\n",
       "  <tbody>\n",
       "    <tr>\n",
       "      <td>0</td>\n",
       "      <td>2001.0</td>\n",
       "      <td>PEUGEOT</td>\n",
       "      <td>PARPADDAA</td>\n",
       "      <td>Nacional</td>\n",
       "      <td>RURAL 3 PUERTAS</td>\n",
       "      <td>1.0</td>\n",
       "      <td>Privado</td>\n",
       "      <td>2001-07-30</td>\n",
       "      <td>1011</td>\n",
       "      <td>BARADERO</td>\n",
       "      <td>...</td>\n",
       "      <td>BARADERO</td>\n",
       "      <td>BUENOS AIRES</td>\n",
       "      <td>6</td>\n",
       "      <td>No identificado</td>\n",
       "      <td>ARGENTINA</td>\n",
       "      <td>ARG</td>\n",
       "      <td>100</td>\n",
       "      <td>Física</td>\n",
       "      <td>2019-09-04</td>\n",
       "      <td>DENUNCIA DE ROBO O HURTO</td>\n",
       "    </tr>\n",
       "    <tr>\n",
       "      <td>1</td>\n",
       "      <td>2000.0</td>\n",
       "      <td>PEUGEOT</td>\n",
       "      <td>PARTNER 1.9D</td>\n",
       "      <td>Nacional</td>\n",
       "      <td>FURGON VIDRIADO C/AS</td>\n",
       "      <td>1.0</td>\n",
       "      <td>Privado</td>\n",
       "      <td>2000-01-07</td>\n",
       "      <td>1045</td>\n",
       "      <td>LA PLATA Nº 03</td>\n",
       "      <td>...</td>\n",
       "      <td>LA PLATA</td>\n",
       "      <td>BUENOS AIRES</td>\n",
       "      <td>6</td>\n",
       "      <td>Masculino</td>\n",
       "      <td>ARGENTINA</td>\n",
       "      <td>ARG</td>\n",
       "      <td>50</td>\n",
       "      <td>Física</td>\n",
       "      <td>2019-09-16</td>\n",
       "      <td>DENUNCIA DE ROBO O HURTO</td>\n",
       "    </tr>\n",
       "    <tr>\n",
       "      <td>2</td>\n",
       "      <td>1991.0</td>\n",
       "      <td>RENAULT</td>\n",
       "      <td>RENAULT 9 TS</td>\n",
       "      <td>Nacional</td>\n",
       "      <td>BERLINA 4 PTAS</td>\n",
       "      <td>1.0</td>\n",
       "      <td>Privado</td>\n",
       "      <td>1991-05-31</td>\n",
       "      <td>1106</td>\n",
       "      <td>LA MATANZA Nº 02</td>\n",
       "      <td>...</td>\n",
       "      <td>RAMOS MEJIA-LA MATANZA</td>\n",
       "      <td>BUENOS AIRES</td>\n",
       "      <td>6</td>\n",
       "      <td>No identificado</td>\n",
       "      <td>PARAGUAY</td>\n",
       "      <td>PRY</td>\n",
       "      <td>100</td>\n",
       "      <td>Física</td>\n",
       "      <td>2019-09-02</td>\n",
       "      <td>DENUNCIA DE ROBO O HURTO</td>\n",
       "    </tr>\n",
       "    <tr>\n",
       "      <td>3</td>\n",
       "      <td>1996.0</td>\n",
       "      <td>MERCEDES BENZ</td>\n",
       "      <td>SPRINTER 310D/C3000</td>\n",
       "      <td>Nacional</td>\n",
       "      <td>COMBI 3000</td>\n",
       "      <td>1.0</td>\n",
       "      <td>Privado</td>\n",
       "      <td>1996-12-18</td>\n",
       "      <td>1113</td>\n",
       "      <td>SAN VICENTE</td>\n",
       "      <td>...</td>\n",
       "      <td>GUERNICA</td>\n",
       "      <td>BUENOS AIRES</td>\n",
       "      <td>6</td>\n",
       "      <td>Masculino</td>\n",
       "      <td>BOLIVIA</td>\n",
       "      <td>BOL</td>\n",
       "      <td>100</td>\n",
       "      <td>Física</td>\n",
       "      <td>2019-09-20</td>\n",
       "      <td>DENUNCIA DE ROBO O HURTO</td>\n",
       "    </tr>\n",
       "    <tr>\n",
       "      <td>4</td>\n",
       "      <td>2002.0</td>\n",
       "      <td>RENAULT</td>\n",
       "      <td>KANGOO RL EXPRESS DIE DA AA</td>\n",
       "      <td>Nacional</td>\n",
       "      <td>FURGON VIDRIADO C/AS</td>\n",
       "      <td>1.0</td>\n",
       "      <td>Privado</td>\n",
       "      <td>2002-04-22</td>\n",
       "      <td>1118</td>\n",
       "      <td>QUILMES Nº 2</td>\n",
       "      <td>...</td>\n",
       "      <td>BERNAL</td>\n",
       "      <td>BUENOS AIRES</td>\n",
       "      <td>6</td>\n",
       "      <td>Femenino</td>\n",
       "      <td>ARGENTINA</td>\n",
       "      <td>ARG</td>\n",
       "      <td>100</td>\n",
       "      <td>Física</td>\n",
       "      <td>2019-09-13</td>\n",
       "      <td>DENUNCIA DE ROBO O HURTO</td>\n",
       "    </tr>\n",
       "  </tbody>\n",
       "</table>\n",
       "<p>5 rows × 22 columns</p>\n",
       "</div>"
      ],
      "text/plain": [
       "   automotor_anio_modelo automotor_marca_descripcion  \\\n",
       "0                 2001.0                     PEUGEOT   \n",
       "1                 2000.0                     PEUGEOT   \n",
       "2                 1991.0                     RENAULT   \n",
       "3                 1996.0               MERCEDES BENZ   \n",
       "4                 2002.0                     RENAULT   \n",
       "\n",
       "  automotor_modelo_descripcion automotor_origen automotor_tipo_descripcion  \\\n",
       "0                    PARPADDAA         Nacional            RURAL 3 PUERTAS   \n",
       "1                 PARTNER 1.9D         Nacional       FURGON VIDRIADO C/AS   \n",
       "2                 RENAULT 9 TS         Nacional             BERLINA 4 PTAS   \n",
       "3          SPRINTER 310D/C3000         Nacional                 COMBI 3000   \n",
       "4  KANGOO RL EXPRESS DIE DA AA         Nacional       FURGON VIDRIADO C/AS   \n",
       "\n",
       "   automotor_uso_codigo automotor_uso_descripcion fecha_inscripcion_inicial  \\\n",
       "0                   1.0                   Privado                2001-07-30   \n",
       "1                   1.0                   Privado                2000-01-07   \n",
       "2                   1.0                   Privado                1991-05-31   \n",
       "3                   1.0                   Privado                1996-12-18   \n",
       "4                   1.0                   Privado                2002-04-22   \n",
       "\n",
       "   registro_seccional_codigo registro_seccional_descripcion  ...  \\\n",
       "0                       1011                       BARADERO  ...   \n",
       "1                       1045                 LA PLATA Nº 03  ...   \n",
       "2                       1106               LA MATANZA Nº 02  ...   \n",
       "3                       1113                    SAN VICENTE  ...   \n",
       "4                       1118                   QUILMES Nº 2  ...   \n",
       "\n",
       "  titular_domicilio_localidad  titular_domicilio_provincia  \\\n",
       "0                    BARADERO                 BUENOS AIRES   \n",
       "1                    LA PLATA                 BUENOS AIRES   \n",
       "2      RAMOS MEJIA-LA MATANZA                 BUENOS AIRES   \n",
       "3                    GUERNICA                 BUENOS AIRES   \n",
       "4                      BERNAL                 BUENOS AIRES   \n",
       "\n",
       "  titular_domicilio_provincia_id   titular_genero titular_pais_nacimiento  \\\n",
       "0                              6  No identificado               ARGENTINA   \n",
       "1                              6        Masculino               ARGENTINA   \n",
       "2                              6  No identificado                PARAGUAY   \n",
       "3                              6        Masculino                 BOLIVIA   \n",
       "4                              6         Femenino               ARGENTINA   \n",
       "\n",
       "  titular_pais_nacimiento_id titular_porcentaje_titularidad  \\\n",
       "0                        ARG                            100   \n",
       "1                        ARG                             50   \n",
       "2                        PRY                            100   \n",
       "3                        BOL                            100   \n",
       "4                        ARG                            100   \n",
       "\n",
       "  titular_tipo_persona  tramite_fecha              tramite_tipo  \n",
       "0               Física     2019-09-04  DENUNCIA DE ROBO O HURTO  \n",
       "1               Física     2019-09-16  DENUNCIA DE ROBO O HURTO  \n",
       "2               Física     2019-09-02  DENUNCIA DE ROBO O HURTO  \n",
       "3               Física     2019-09-20  DENUNCIA DE ROBO O HURTO  \n",
       "4               Física     2019-09-13  DENUNCIA DE ROBO O HURTO  \n",
       "\n",
       "[5 rows x 22 columns]"
      ]
     },
     "execution_count": 55,
     "metadata": {},
     "output_type": "execute_result"
    }
   ],
   "source": [
    "data.head()"
   ]
  },
  {
   "cell_type": "markdown",
   "metadata": {},
   "source": [
    "Se observa que los id son reemplazables por columnas object que describen en detalle los datos que realmente nos interesan para la nota por lo que se procede a limpiar"
   ]
  },
  {
   "cell_type": "code",
   "execution_count": 57,
   "metadata": {},
   "outputs": [],
   "source": [
    "data.drop(columns = ['registro_seccional_codigo', 'automotor_uso_codigo', 'titular_domicilio_provincia_id',\n",
    "                    'titular_pais_nacimiento_id'], inplace = True)"
   ]
  },
  {
   "cell_type": "code",
   "execution_count": 143,
   "metadata": {},
   "outputs": [],
   "source": [
    "data.to_csv('data_clean.csv')"
   ]
  },
  {
   "cell_type": "markdown",
   "metadata": {},
   "source": [
    "Ahora, que ya tenemos toda nuestra base limpia, procedemos a investigar cada una de nuestras variables que nos arrojará los primeros datos de la muestra a estudiar. Por cada una de las preguntas, responderemos con \"agrupaciones\" y \"visualizaciones de datos\""
   ]
  },
  {
   "cell_type": "markdown",
   "metadata": {},
   "source": [
    "### Top 10 de modelos de autos (año) más robados en Argentina"
   ]
  },
  {
   "cell_type": "code",
   "execution_count": 63,
   "metadata": {},
   "outputs": [
    {
     "data": {
      "text/plain": [
       "2011    2061\n",
       "2013    1931\n",
       "2012    1890\n",
       "2008    1852\n",
       "2007    1843\n",
       "2010    1749\n",
       "1999    1749\n",
       "1998    1686\n",
       "2006    1662\n",
       "1997    1450\n",
       "Name: automotor_anio_modelo, dtype: int64"
      ]
     },
     "execution_count": 63,
     "metadata": {},
     "output_type": "execute_result"
    }
   ],
   "source": [
    "data['automotor_anio_modelo'].astype(int).value_counts().head(10)"
   ]
  },
  {
   "cell_type": "markdown",
   "metadata": {},
   "source": [
    "Los modelos 2011, son los autos más robados de Argentina, seguidos de modelos 2013 y 2012.\n",
    "<br>Llama la atención que los auos nuevos no son buscados por los delincuentes."
   ]
  },
  {
   "cell_type": "code",
   "execution_count": 138,
   "metadata": {},
   "outputs": [
    {
     "data": {
      "text/plain": [
       "[]"
      ]
     },
     "execution_count": 138,
     "metadata": {},
     "output_type": "execute_result"
    },
    {
     "data": {
      "image/png": "[encoded data removed]",
      "text/plain": [
       "<Figure size 842.4x595.44 with 1 Axes>"
      ]
     },
     "metadata": {},
     "output_type": "display_data"
    }
   ],
   "source": [
    "data['automotor_anio_modelo'].astype(int).value_counts().head(10).plot.bar()\n",
    "plt.title('Modelo de año más robados en Argentina', fontsize = 20)\n",
    "plt.xlabel('Modelo en años')\n",
    "plt.ylabel('Número de unidades')\n",
    "plt.plot()"
   ]
  },
  {
   "cell_type": "markdown",
   "metadata": {},
   "source": [
    "### TOP Marca de autos más robadas en Argentina"
   ]
  },
  {
   "cell_type": "code",
   "execution_count": 83,
   "metadata": {},
   "outputs": [
    {
     "data": {
      "text/plain": [
       "VOLKSWAGEN       0.176146\n",
       "RENAULT          0.155133\n",
       "FIAT             0.138707\n",
       "CHEVROLET        0.127847\n",
       "FORD             0.123639\n",
       "PEUGEOT          0.120734\n",
       "TOYOTA           0.035349\n",
       "CITROEN          0.032661\n",
       "MERCEDES BENZ    0.014606\n",
       "HONDA            0.010697\n",
       "Name: automotor_marca_descripcion, dtype: float64"
      ]
     },
     "execution_count": 83,
     "metadata": {},
     "output_type": "execute_result"
    }
   ],
   "source": [
    "data['automotor_marca_descripcion'].value_counts(normalize = True).head(10)"
   ]
  },
  {
   "cell_type": "code",
   "execution_count": 139,
   "metadata": {},
   "outputs": [
    {
     "data": {
      "text/plain": [
       "VOLKSWAGEN       6488\n",
       "RENAULT          5714\n",
       "FIAT             5109\n",
       "CHEVROLET        4709\n",
       "FORD             4554\n",
       "PEUGEOT          4447\n",
       "TOYOTA           1302\n",
       "CITROEN          1203\n",
       "MERCEDES BENZ     538\n",
       "HONDA             394\n",
       "Name: automotor_marca_descripcion, dtype: int64"
      ]
     },
     "execution_count": 139,
     "metadata": {},
     "output_type": "execute_result"
    }
   ],
   "source": [
    "data['automotor_marca_descripcion'].value_counts().head(10)"
   ]
  },
  {
   "cell_type": "markdown",
   "metadata": {},
   "source": [
    "<font color = blue>Volkswagen lidera el ranking con 6488 unidades robadas. Representa el 17% de los robos totales. \n",
    "Renault lo sigue con 5714 unidades robadas. Representa el 15% de los robos totales."
   ]
  },
  {
   "cell_type": "code",
   "execution_count": 87,
   "metadata": {},
   "outputs": [
    {
     "data": {
      "text/plain": [
       "[]"
      ]
     },
     "execution_count": 87,
     "metadata": {},
     "output_type": "execute_result"
    },
    {
     "data": {
      "image/png": "[encoded data removed]",
      "text/plain": [
       "<Figure size 842.4x595.44 with 1 Axes>"
      ]
     },
     "metadata": {},
     "output_type": "display_data"
    }
   ],
   "source": [
    "data['automotor_marca_descripcion'].value_counts().head(10).plot.bar()\n",
    "plt.title('Marca de autos más robados en Argentina en 2019', fontsize = 20)\n",
    "plt.xlabel('Marca de autos')\n",
    "plt.ylabel('Número de unidades')\n",
    "plt.plot()"
   ]
  },
  {
   "cell_type": "markdown",
   "metadata": {},
   "source": [
    "### Top 10 modelo de auto más robado en Argentina"
   ]
  },
  {
   "cell_type": "code",
   "execution_count": 82,
   "metadata": {},
   "outputs": [
    {
     "data": {
      "text/plain": [
       "GOL 1.6                           618\n",
       "GOL TREND 1.6                     362\n",
       "RENAULT 9 RL                      298\n",
       "FOX 1.6                           288\n",
       "FIORINO FIRE 1242 MPI 8V          237\n",
       "CORSA CLASSIC 4P SUPER 1.6N       236\n",
       "UNO FIRE 1242 MPI 8V              222\n",
       "KA                                212\n",
       "GOL GL                            207\n",
       "CORSA GL 1.6 MPFI                 195\n",
       "VOYAGE 1.6                        185\n",
       "CLASSIC 4 P LS ABS+AIRBAG 1.4N    170\n",
       "SPAZIO TR                         165\n",
       "ECOSPORT 1.6 L 4X2 XLS            162\n",
       "GOL GL 1.6 MI                     160\n",
       "RENAULT 9 GTL                     148\n",
       "BORA 2.0                          145\n",
       "GOL 1.4 L                         129\n",
       "GOL TREND 1.6 MSI                 128\n",
       "VIVACE                            127\n",
       "Name: automotor_modelo_descripcion, dtype: int64"
      ]
     },
     "execution_count": 82,
     "metadata": {},
     "output_type": "execute_result"
    }
   ],
   "source": [
    "data['automotor_modelo_descripcion'].value_counts().head(20)"
   ]
  },
  {
   "cell_type": "code",
   "execution_count": 86,
   "metadata": {},
   "outputs": [
    {
     "data": {
      "text/plain": [
       "[]"
      ]
     },
     "execution_count": 86,
     "metadata": {},
     "output_type": "execute_result"
    },
    {
     "data": {
      "image/png": "[encoded data removed]",
      "text/plain": [
       "<Figure size 842.4x595.44 with 1 Axes>"
      ]
     },
     "metadata": {},
     "output_type": "display_data"
    }
   ],
   "source": [
    "data['automotor_modelo_descripcion'].value_counts().head(10).plot.bar()\n",
    "plt.title('Modelo de autos más robados en Argentina en 2019', fontsize = 20)\n",
    "plt.xlabel('Marca de autos')\n",
    "plt.ylabel('Número de unidades')\n",
    "plt.plot()"
   ]
  },
  {
   "cell_type": "markdown",
   "metadata": {},
   "source": [
    "<font color=blue> El VW Gol tradicional es el auto elegido por los delincuentes, seguido por el mismo vehículo en su versión Gol Trend. Aparece en el top 3, el Renault 9 que aun sigue siendo debido a su seguridad obsoleta, uno de los más robados."
   ]
  },
  {
   "cell_type": "markdown",
   "metadata": {},
   "source": [
    "### ¿Los autos robados en Argentina son nacionales o importados?"
   ]
  },
  {
   "cell_type": "code",
   "execution_count": 85,
   "metadata": {},
   "outputs": [
    {
     "data": {
      "text/plain": [
       "Nacional        0.514430\n",
       "Protocolo 21    0.333017\n",
       "Importado       0.152553\n",
       "Name: automotor_origen, dtype: float64"
      ]
     },
     "execution_count": 85,
     "metadata": {},
     "output_type": "execute_result"
    }
   ],
   "source": [
    "data.automotor_origen.value_counts(normalize = True)"
   ]
  },
  {
   "cell_type": "markdown",
   "metadata": {},
   "source": [
    "<font color =blue> El 51% de los autos robados en Argentina son de origen nacional.\n",
    "    <br> El 15% corresponde a vehículos importados"
   ]
  },
  {
   "cell_type": "code",
   "execution_count": 89,
   "metadata": {},
   "outputs": [
    {
     "data": {
      "text/plain": [
       "SEDAN 4 PTAS       0.189151\n",
       "SEDAN 5 PTAS       0.177585\n",
       "SEDAN 5 PUERTAS    0.126843\n",
       "SEDAN 4 PUERTAS    0.096625\n",
       "SEDAN 3 PTAS       0.081177\n",
       "Name: automotor_tipo_descripcion, dtype: float64"
      ]
     },
     "execution_count": 89,
     "metadata": {},
     "output_type": "execute_result"
    }
   ],
   "source": [
    "data.automotor_tipo_descripcion.value_counts(normalize = True).head(5)"
   ]
  },
  {
   "cell_type": "markdown",
   "metadata": {},
   "source": [
    "<font color= blue>El 30% de los autos robados en Argentina son de estilo SEDAN 5 puertas Y el 27% son SEDAN 4 puertas"
   ]
  },
  {
   "cell_type": "code",
   "execution_count": 91,
   "metadata": {},
   "outputs": [
    {
     "data": {
      "text/plain": [
       "Privado         0.988706\n",
       "Público         0.006380\n",
       "No declarado    0.003014\n",
       "Oficial         0.001873\n",
       "sin registro    0.000027\n",
       "Name: automotor_uso_descripcion, dtype: float64"
      ]
     },
     "execution_count": 91,
     "metadata": {},
     "output_type": "execute_result"
    }
   ],
   "source": [
    "data.automotor_uso_descripcion.value_counts(normalize = True)"
   ]
  },
  {
   "cell_type": "markdown",
   "metadata": {},
   "source": [
    "<font color= blue> El 98% de los vehículos son de uso privado"
   ]
  },
  {
   "cell_type": "code",
   "execution_count": 92,
   "metadata": {},
   "outputs": [
    {
     "data": {
      "text/plain": [
       "Privado         36417\n",
       "Público           235\n",
       "No declarado      111\n",
       "Oficial            69\n",
       "sin registro        1\n",
       "Name: automotor_uso_descripcion, dtype: int64"
      ]
     },
     "execution_count": 92,
     "metadata": {},
     "output_type": "execute_result"
    }
   ],
   "source": [
    "data.automotor_uso_descripcion.value_counts()"
   ]
  },
  {
   "cell_type": "markdown",
   "metadata": {},
   "source": [
    "<font color= blue>En 2019, se registraron 69 casos de robo de vehículos de uso oficial"
   ]
  },
  {
   "cell_type": "code",
   "execution_count": 109,
   "metadata": {},
   "outputs": [
    {
     "data": {
      "image/png": "[encoded data removed]",
      "text/plain": [
       "<Figure size 842.4x595.44 with 1 Axes>"
      ]
     },
     "metadata": {},
     "output_type": "display_data"
    }
   ],
   "source": [
    "sns.scatterplot(data['tramite_fecha'], data['titular_domicilio_provincia'])\n",
    "plt.title('Robos en provincias por fecha')\n",
    "plt.ylabel('Provincias')\n",
    "plt.xlabel('Fecha del robo')\n",
    "plt.show()\n"
   ]
  },
  {
   "cell_type": "code",
   "execution_count": 142,
   "metadata": {},
   "outputs": [
    {
     "data": {
      "text/plain": [
       "1982.0    1025\n",
       "1980.0    1021\n",
       "1983.0    1006\n",
       "1978.0    1002\n",
       "1981.0     990\n",
       "1979.0     987\n",
       "1977.0     977\n",
       "1987.0     972\n",
       "1986.0     960\n",
       "1984.0     927\n",
       "Name: titular_anio_nacimiento, dtype: int64"
      ]
     },
     "execution_count": 142,
     "metadata": {},
     "output_type": "execute_result"
    }
   ],
   "source": [
    "data.titular_anio_nacimiento.value_counts().head(10)"
   ]
  },
  {
   "cell_type": "markdown",
   "metadata": {},
   "source": [
    "<font color=blue>Se puede observar que los adultos que oscilan entre los 33 y 36 años son las principales víctimas nacidos en 1982, 1980 y 1983."
   ]
  },
  {
   "cell_type": "markdown",
   "metadata": {},
   "source": [
    "<font color= blue>Se observa como en las provincias más pobladas de Argentina, los robos se registran durante todo el año. A diferencia de otras provincias, en donde se puede observar que los robos se intensifican en meses de vacaciones de verano e invierno."
   ]
  },
  {
   "cell_type": "code",
   "execution_count": 125,
   "metadata": {},
   "outputs": [
    {
     "data": {
      "image/png": "[encoded data removed]",
      "text/plain": [
       "<Figure size 842.4x595.44 with 1 Axes>"
      ]
     },
     "metadata": {},
     "output_type": "display_data"
    }
   ],
   "source": [
    "plt.hist(data['titular_anio_nacimiento'], range=(1920, 2010))\n",
    "plt.title('Edad de las víctimas del robo', fontsize = 20)\n",
    "plt.xlabel('Años')\n",
    "plt.ylabel('Cantidades')\n",
    "plt.show()"
   ]
  },
  {
   "cell_type": "markdown",
   "metadata": {},
   "source": [
    "### Cantidad de robos por provincia"
   ]
  },
  {
   "cell_type": "code",
   "execution_count": 126,
   "metadata": {},
   "outputs": [
    {
     "data": {
      "text/plain": [
       "BUENOS AIRES           24501\n",
       "C.AUTONOMA DE BS.AS     5876\n",
       "CORDOBA                 2589\n",
       "MENDOZA                 1490\n",
       "SANTA FE                1390\n",
       "NEUQUEN                  162\n",
       "ENTRE RIOS               138\n",
       "CORRIENTES               104\n",
       "RIO NEGRO                 91\n",
       "CHUBUT                    71\n",
       "TUCUMAN                   60\n",
       "SAN LUIS                  59\n",
       "CHACO                     41\n",
       "MISIONES                  40\n",
       "SALTA                     32\n",
       "SANTA CRUZ                30\n",
       "JUJUY                     28\n",
       "LA PAMPA                  28\n",
       "SGO.DEL ESTERO            27\n",
       "T.DEL FUEGO               24\n",
       "SAN JUAN                  14\n",
       "FORMOSA                   14\n",
       "LA RIOJA                  13\n",
       "CATAMARCA                 11\n",
       "Name: titular_domicilio_provincia, dtype: int64"
      ]
     },
     "execution_count": 126,
     "metadata": {},
     "output_type": "execute_result"
    }
   ],
   "source": [
    "data['titular_domicilio_provincia'].value_counts()"
   ]
  },
  {
   "cell_type": "code",
   "execution_count": 127,
   "metadata": {},
   "outputs": [
    {
     "data": {
      "text/plain": [
       "BUENOS AIRES           0.665192\n",
       "C.AUTONOMA DE BS.AS    0.159531\n",
       "CORDOBA                0.070290\n",
       "MENDOZA                0.040453\n",
       "SANTA FE               0.037738\n",
       "NEUQUEN                0.004398\n",
       "ENTRE RIOS             0.003747\n",
       "CORRIENTES             0.002824\n",
       "RIO NEGRO              0.002471\n",
       "CHUBUT                 0.001928\n",
       "TUCUMAN                0.001629\n",
       "SAN LUIS               0.001602\n",
       "CHACO                  0.001113\n",
       "MISIONES               0.001086\n",
       "SALTA                  0.000869\n",
       "SANTA CRUZ             0.000814\n",
       "JUJUY                  0.000760\n",
       "LA PAMPA               0.000760\n",
       "SGO.DEL ESTERO         0.000733\n",
       "T.DEL FUEGO            0.000652\n",
       "SAN JUAN               0.000380\n",
       "FORMOSA                0.000380\n",
       "LA RIOJA               0.000353\n",
       "CATAMARCA              0.000299\n",
       "Name: titular_domicilio_provincia, dtype: float64"
      ]
     },
     "execution_count": 127,
     "metadata": {},
     "output_type": "execute_result"
    }
   ],
   "source": [
    "data['titular_domicilio_provincia'].value_counts(normalize = True)"
   ]
  },
  {
   "cell_type": "markdown",
   "metadata": {},
   "source": [
    "<font color= blue> Provincia de Buenos Aires representa el 66% de la muestra. <br>El 15% lo tiene CABA mientras que las dos provincias que siguen al estudio son Córdoba y Mendoza. "
   ]
  },
  {
   "cell_type": "code",
   "execution_count": 129,
   "metadata": {},
   "outputs": [
    {
     "data": {
      "text/plain": [
       "Masculino          19657\n",
       "Femenino            8849\n",
       "No identificado     6415\n",
       "No aplica           1912\n",
       "Name: titular_genero, dtype: int64"
      ]
     },
     "execution_count": 129,
     "metadata": {},
     "output_type": "execute_result"
    }
   ],
   "source": [
    "data.titular_genero.value_counts()"
   ]
  },
  {
   "cell_type": "code",
   "execution_count": 130,
   "metadata": {},
   "outputs": [
    {
     "data": {
      "text/plain": [
       "Masculino          0.533679\n",
       "Femenino           0.240247\n",
       "No identificado    0.174164\n",
       "No aplica          0.051910\n",
       "Name: titular_genero, dtype: float64"
      ]
     },
     "execution_count": 130,
     "metadata": {},
     "output_type": "execute_result"
    }
   ],
   "source": [
    "data.titular_genero.value_counts(normalize = True)"
   ]
  },
  {
   "cell_type": "markdown",
   "metadata": {},
   "source": [
    "<font color = blue> El 53% de las víctimas de robos de vehículos en Argetina son de género masculino"
   ]
  },
  {
   "cell_type": "code",
   "execution_count": 133,
   "metadata": {},
   "outputs": [
    {
     "data": {
      "text/plain": [
       "100    0.952570\n",
       "50     0.045367\n",
       "75     0.000353\n",
       "70     0.000217\n",
       "95     0.000163\n",
       "33     0.000163\n",
       "25     0.000136\n",
       "90     0.000136\n",
       "51     0.000081\n",
       "65     0.000081\n",
       "Name: titular_porcentaje_titularidad, dtype: float64"
      ]
     },
     "execution_count": 133,
     "metadata": {},
     "output_type": "execute_result"
    }
   ],
   "source": [
    "data.titular_porcentaje_titularidad.value_counts(normalize = True).head(10)"
   ]
  },
  {
   "cell_type": "markdown",
   "metadata": {},
   "source": [
    "<font color=blue>El 95% de las víctimas tienen el 100% de la titularidad del vehículo. El 4% tenía el 50% de la titularidad del auto"
   ]
  },
  {
   "cell_type": "code",
   "execution_count": 135,
   "metadata": {},
   "outputs": [
    {
     "data": {
      "text/plain": [
       "Física      34921\n",
       "Jurídica     1912\n",
       "Name: titular_tipo_persona, dtype: int64"
      ]
     },
     "execution_count": 135,
     "metadata": {},
     "output_type": "execute_result"
    }
   ],
   "source": [
    "data.titular_tipo_persona.value_counts()"
   ]
  },
  {
   "cell_type": "code",
   "execution_count": 136,
   "metadata": {},
   "outputs": [
    {
     "data": {
      "text/plain": [
       "Física      0.94809\n",
       "Jurídica    0.05191\n",
       "Name: titular_tipo_persona, dtype: float64"
      ]
     },
     "execution_count": 136,
     "metadata": {},
     "output_type": "execute_result"
    }
   ],
   "source": [
    "data.titular_tipo_persona.value_counts(normalize = True)"
   ]
  },
  {
   "cell_type": "markdown",
   "metadata": {},
   "source": [
    "<font color= blue> El 94% de los denunciantes son personas físicas. Solo el 5% de los robos fueron denunciados por personas jurídicas"
   ]
  },
  {
   "cell_type": "code",
   "execution_count": null,
   "metadata": {},
   "outputs": [],
   "source": []
  }
 ],
 "metadata": {
  "kernelspec": {
   "display_name": "Python 3",
   "language": "python",
   "name": "python3"
  },
  "language_info": {
   "codemirror_mode": {
    "name": "ipython",
    "version": 3
   },
   "file_extension": ".py",
   "mimetype": "text/x-python",
   "name": "python",
   "nbconvert_exporter": "python",
   "pygments_lexer": "ipython3",
   "version": "3.7.4"
  }
 },
 "nbformat": 4,
 "nbformat_minor": 2
}
